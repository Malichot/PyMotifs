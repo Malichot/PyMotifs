{
 "cells": [
  {
   "cell_type": "markdown",
   "id": "c6b82019",
   "metadata": {},
   "source": [
    "# PyMotifs"
   ]
  },
  {
   "cell_type": "markdown",
   "id": "e1f86057",
   "metadata": {},
   "source": [
    "## Read all txt inside folder : "
   ]
  },
  {
   "cell_type": "code",
   "execution_count": 5,
   "id": "b3bb8882",
   "metadata": {},
   "outputs": [],
   "source": [
    "import pandas as pd\n",
    "import os \n",
    "import csv"
   ]
  },
  {
   "cell_type": "code",
   "execution_count": 6,
   "id": "8498a66c",
   "metadata": {},
   "outputs": [],
   "source": [
    "# Loop over : https://stackoverflow.com/questions/69118811/how-to-read-all-txt-files-from-a-directory\n",
    "def read_txts(path):\n",
    "    \"\"\"\n",
    "    Read all txts inside a folder and put them into a dataframe.\n",
    "    Folder must contain only txt files...\n",
    "    \"\"\"\n",
    "    files_content = [] # create empty list to save content\n",
    "\n",
    "    for filename in filter(lambda p: p.endswith(\"txt\"), os.listdir(path)): # filtre les fichiers qui se terminent par txt\n",
    "      # et liste les fichiers dans le path.\n",
    "        filepath = os.path.join(path, filename)\n",
    "        with open(filepath, mode='r') as f:\n",
    "            files_content += [f.read()]\n",
    "\n",
    "    print(f'There are {len(files_content)} texts in folder')\n",
    "    all_files = os.listdir(path=path)\n",
    "    df = pd.DataFrame()\n",
    "    df['filename'] = all_files\n",
    "    df['text'] = files_content\n",
    "    return(df)"
   ]
  },
  {
   "cell_type": "code",
   "execution_count": 7,
   "id": "bbf74896",
   "metadata": {},
   "outputs": [
    {
     "name": "stdout",
     "output_type": "stream",
     "text": [
      "There are 2 texts in folder\n"
     ]
    },
    {
     "data": {
      "text/html": [
       "<div>\n",
       "<style scoped>\n",
       "    .dataframe tbody tr th:only-of-type {\n",
       "        vertical-align: middle;\n",
       "    }\n",
       "\n",
       "    .dataframe tbody tr th {\n",
       "        vertical-align: top;\n",
       "    }\n",
       "\n",
       "    .dataframe thead th {\n",
       "        text-align: right;\n",
       "    }\n",
       "</style>\n",
       "<table border=\"1\" class=\"dataframe\">\n",
       "  <thead>\n",
       "    <tr style=\"text-align: right;\">\n",
       "      <th></th>\n",
       "      <th>filename</th>\n",
       "      <th>text</th>\n",
       "    </tr>\n",
       "  </thead>\n",
       "  <tbody>\n",
       "    <tr>\n",
       "      <th>0</th>\n",
       "      <td>Huysmans.txt</td>\n",
       "      <td>À en juger par les quelques portraits conservé...</td>\n",
       "    </tr>\n",
       "    <tr>\n",
       "      <th>1</th>\n",
       "      <td>Balzac.txt</td>\n",
       "      <td>Madame Vauquer, née de Conflans, est une vieil...</td>\n",
       "    </tr>\n",
       "  </tbody>\n",
       "</table>\n",
       "</div>"
      ],
      "text/plain": [
       "       filename                                               text\n",
       "0  Huysmans.txt  À en juger par les quelques portraits conservé...\n",
       "1    Balzac.txt  Madame Vauquer, née de Conflans, est une vieil..."
      ]
     },
     "execution_count": 7,
     "metadata": {},
     "output_type": "execute_result"
    }
   ],
   "source": [
    "read_txts(path=\"/Users/adesacy/Desktop/PyMotifs/corpus\")"
   ]
  },
  {
   "cell_type": "code",
   "execution_count": 8,
   "id": "c8c4ff79",
   "metadata": {},
   "outputs": [
    {
     "name": "stdout",
     "output_type": "stream",
     "text": [
      "There are 2 texts in folder\n"
     ]
    }
   ],
   "source": [
    "# Save into object : \n",
    "df = read_txts(path=\"/Users/adesacy/Desktop/PyMotifs/corpus\")"
   ]
  },
  {
   "cell_type": "code",
   "execution_count": 9,
   "id": "5d34a3cd",
   "metadata": {},
   "outputs": [
    {
     "data": {
      "text/html": [
       "<div>\n",
       "<style scoped>\n",
       "    .dataframe tbody tr th:only-of-type {\n",
       "        vertical-align: middle;\n",
       "    }\n",
       "\n",
       "    .dataframe tbody tr th {\n",
       "        vertical-align: top;\n",
       "    }\n",
       "\n",
       "    .dataframe thead th {\n",
       "        text-align: right;\n",
       "    }\n",
       "</style>\n",
       "<table border=\"1\" class=\"dataframe\">\n",
       "  <thead>\n",
       "    <tr style=\"text-align: right;\">\n",
       "      <th></th>\n",
       "      <th>filename</th>\n",
       "      <th>text</th>\n",
       "    </tr>\n",
       "  </thead>\n",
       "  <tbody>\n",
       "    <tr>\n",
       "      <th>0</th>\n",
       "      <td>Huysmans.txt</td>\n",
       "      <td>À en juger par les quelques portraits conservé...</td>\n",
       "    </tr>\n",
       "    <tr>\n",
       "      <th>1</th>\n",
       "      <td>Balzac.txt</td>\n",
       "      <td>Madame Vauquer, née de Conflans, est une vieil...</td>\n",
       "    </tr>\n",
       "  </tbody>\n",
       "</table>\n",
       "</div>"
      ],
      "text/plain": [
       "       filename                                               text\n",
       "0  Huysmans.txt  À en juger par les quelques portraits conservé...\n",
       "1    Balzac.txt  Madame Vauquer, née de Conflans, est une vieil..."
      ]
     },
     "execution_count": 9,
     "metadata": {},
     "output_type": "execute_result"
    }
   ],
   "source": [
    "df"
   ]
  },
  {
   "cell_type": "markdown",
   "id": "cc28c22c",
   "metadata": {},
   "source": [
    "## Nettoyage :"
   ]
  },
  {
   "cell_type": "code",
   "execution_count": 10,
   "id": "7f3c7679",
   "metadata": {},
   "outputs": [],
   "source": [
    "# Change apostrophs : \n",
    "\n",
    "def clean_a_bit(df):\n",
    "    \"\"\"\n",
    "    Function to clean differnt apostrophs and withdraw possible na\n",
    "    values from df\n",
    "    \"\"\"\n",
    "    df['text'] = df['text'].replace(\"’\", \"'\")\n",
    "    df['text'] = df['text'].replace(\"'\", \"'\")\n",
    "    # Retrait des NA dans la colonne mots : \n",
    "    df['text'] = df['text'].dropna(how = 'any', axis = 0)# Drop the row \n",
    "    \n",
    "    return(df)"
   ]
  },
  {
   "cell_type": "code",
   "execution_count": 11,
   "id": "6e1a6e72",
   "metadata": {},
   "outputs": [
    {
     "data": {
      "text/html": [
       "<div>\n",
       "<style scoped>\n",
       "    .dataframe tbody tr th:only-of-type {\n",
       "        vertical-align: middle;\n",
       "    }\n",
       "\n",
       "    .dataframe tbody tr th {\n",
       "        vertical-align: top;\n",
       "    }\n",
       "\n",
       "    .dataframe thead th {\n",
       "        text-align: right;\n",
       "    }\n",
       "</style>\n",
       "<table border=\"1\" class=\"dataframe\">\n",
       "  <thead>\n",
       "    <tr style=\"text-align: right;\">\n",
       "      <th></th>\n",
       "      <th>filename</th>\n",
       "      <th>text</th>\n",
       "    </tr>\n",
       "  </thead>\n",
       "  <tbody>\n",
       "    <tr>\n",
       "      <th>0</th>\n",
       "      <td>Huysmans.txt</td>\n",
       "      <td>À en juger par les quelques portraits conservé...</td>\n",
       "    </tr>\n",
       "    <tr>\n",
       "      <th>1</th>\n",
       "      <td>Balzac.txt</td>\n",
       "      <td>Madame Vauquer, née de Conflans, est une vieil...</td>\n",
       "    </tr>\n",
       "  </tbody>\n",
       "</table>\n",
       "</div>"
      ],
      "text/plain": [
       "       filename                                               text\n",
       "0  Huysmans.txt  À en juger par les quelques portraits conservé...\n",
       "1    Balzac.txt  Madame Vauquer, née de Conflans, est une vieil..."
      ]
     },
     "execution_count": 11,
     "metadata": {},
     "output_type": "execute_result"
    }
   ],
   "source": [
    "clean_a_bit(df)"
   ]
  },
  {
   "cell_type": "markdown",
   "id": "c34eee92",
   "metadata": {},
   "source": [
    "## Annotation : "
   ]
  },
  {
   "cell_type": "code",
   "execution_count": 12,
   "id": "5f83805a",
   "metadata": {},
   "outputs": [],
   "source": [
    "# !pip install spacy-udpipe"
   ]
  },
  {
   "cell_type": "code",
   "execution_count": 13,
   "id": "e2d375a1",
   "metadata": {},
   "outputs": [
    {
     "name": "stdout",
     "output_type": "stream",
     "text": [
      "Already downloaded a model for the 'fr' language\n"
     ]
    }
   ],
   "source": [
    "import spacy_udpipe\n",
    "\n",
    "spacy_udpipe.download(\"fr\") # Download french model : \n",
    "\n",
    "nlp = spacy_udpipe.load(\"fr\")"
   ]
  },
  {
   "cell_type": "code",
   "execution_count": 14,
   "id": "49f8c798",
   "metadata": {},
   "outputs": [],
   "source": [
    "# Create a Tokenizer with the default settings for French\n",
    "# including punctuation rules and exceptions\n",
    "\n",
    "tokenizer = nlp.tokenizer"
   ]
  },
  {
   "cell_type": "markdown",
   "id": "a77b5fd1",
   "metadata": {},
   "source": [
    "### Tokénisation"
   ]
  },
  {
   "cell_type": "code",
   "execution_count": 15,
   "id": "901bc72e",
   "metadata": {},
   "outputs": [],
   "source": [
    "# Création d'une nouvelle dataframe pour accueillir les données de l'étiquetage : \n",
    "# On ne veut pas garder le texte intégral dans le nouveau tableau.\n",
    "\n",
    "annotated_datas = pd.DataFrame()\n",
    "\n",
    "# récupération de la colonne filename : \n",
    "\n",
    "annotated_datas['filename'] = df['filename']"
   ]
  },
  {
   "cell_type": "code",
   "execution_count": 16,
   "id": "357c427d",
   "metadata": {},
   "outputs": [
    {
     "data": {
      "text/html": [
       "<div>\n",
       "<style scoped>\n",
       "    .dataframe tbody tr th:only-of-type {\n",
       "        vertical-align: middle;\n",
       "    }\n",
       "\n",
       "    .dataframe tbody tr th {\n",
       "        vertical-align: top;\n",
       "    }\n",
       "\n",
       "    .dataframe thead th {\n",
       "        text-align: right;\n",
       "    }\n",
       "</style>\n",
       "<table border=\"1\" class=\"dataframe\">\n",
       "  <thead>\n",
       "    <tr style=\"text-align: right;\">\n",
       "      <th></th>\n",
       "      <th>filename</th>\n",
       "      <th>words</th>\n",
       "    </tr>\n",
       "  </thead>\n",
       "  <tbody>\n",
       "    <tr>\n",
       "      <th>0</th>\n",
       "      <td>Huysmans.txt</td>\n",
       "      <td>(À, en, juger, par, les, quelques, portraits, ...</td>\n",
       "    </tr>\n",
       "    <tr>\n",
       "      <th>1</th>\n",
       "      <td>Balzac.txt</td>\n",
       "      <td>(Madame, Vauquer, ,, née, de, Conflans, ,, est...</td>\n",
       "    </tr>\n",
       "  </tbody>\n",
       "</table>\n",
       "</div>"
      ],
      "text/plain": [
       "       filename                                              words\n",
       "0  Huysmans.txt  (À, en, juger, par, les, quelques, portraits, ...\n",
       "1    Balzac.txt  (Madame, Vauquer, ,, née, de, Conflans, ,, est..."
      ]
     },
     "execution_count": 16,
     "metadata": {},
     "output_type": "execute_result"
    }
   ],
   "source": [
    "# On tokenise les textes :\n",
    "\n",
    "annotated_datas['words'] = df['text'].apply(lambda x: nlp.tokenizer(str(x)))\n",
    "annotated_datas.head(10)"
   ]
  },
  {
   "cell_type": "code",
   "execution_count": 17,
   "id": "0a1893ac",
   "metadata": {},
   "outputs": [
    {
     "data": {
      "text/html": [
       "<div>\n",
       "<style scoped>\n",
       "    .dataframe tbody tr th:only-of-type {\n",
       "        vertical-align: middle;\n",
       "    }\n",
       "\n",
       "    .dataframe tbody tr th {\n",
       "        vertical-align: top;\n",
       "    }\n",
       "\n",
       "    .dataframe thead th {\n",
       "        text-align: right;\n",
       "    }\n",
       "</style>\n",
       "<table border=\"1\" class=\"dataframe\">\n",
       "  <thead>\n",
       "    <tr style=\"text-align: right;\">\n",
       "      <th></th>\n",
       "      <th>filename</th>\n",
       "      <th>words</th>\n",
       "    </tr>\n",
       "  </thead>\n",
       "  <tbody>\n",
       "    <tr>\n",
       "      <th>0</th>\n",
       "      <td>Huysmans.txt</td>\n",
       "      <td>À</td>\n",
       "    </tr>\n",
       "    <tr>\n",
       "      <th>1</th>\n",
       "      <td>Huysmans.txt</td>\n",
       "      <td>en</td>\n",
       "    </tr>\n",
       "    <tr>\n",
       "      <th>2</th>\n",
       "      <td>Huysmans.txt</td>\n",
       "      <td>juger</td>\n",
       "    </tr>\n",
       "    <tr>\n",
       "      <th>3</th>\n",
       "      <td>Huysmans.txt</td>\n",
       "      <td>par</td>\n",
       "    </tr>\n",
       "    <tr>\n",
       "      <th>4</th>\n",
       "      <td>Huysmans.txt</td>\n",
       "      <td>les</td>\n",
       "    </tr>\n",
       "    <tr>\n",
       "      <th>5</th>\n",
       "      <td>Huysmans.txt</td>\n",
       "      <td>quelques</td>\n",
       "    </tr>\n",
       "    <tr>\n",
       "      <th>6</th>\n",
       "      <td>Huysmans.txt</td>\n",
       "      <td>portraits</td>\n",
       "    </tr>\n",
       "    <tr>\n",
       "      <th>7</th>\n",
       "      <td>Huysmans.txt</td>\n",
       "      <td>conservés</td>\n",
       "    </tr>\n",
       "    <tr>\n",
       "      <th>8</th>\n",
       "      <td>Huysmans.txt</td>\n",
       "      <td>à</td>\n",
       "    </tr>\n",
       "    <tr>\n",
       "      <th>9</th>\n",
       "      <td>Huysmans.txt</td>\n",
       "      <td>le</td>\n",
       "    </tr>\n",
       "  </tbody>\n",
       "</table>\n",
       "</div>"
      ],
      "text/plain": [
       "       filename      words\n",
       "0  Huysmans.txt          À\n",
       "1  Huysmans.txt         en\n",
       "2  Huysmans.txt      juger\n",
       "3  Huysmans.txt        par\n",
       "4  Huysmans.txt        les\n",
       "5  Huysmans.txt   quelques\n",
       "6  Huysmans.txt  portraits\n",
       "7  Huysmans.txt  conservés\n",
       "8  Huysmans.txt          à\n",
       "9  Huysmans.txt         le"
      ]
     },
     "execution_count": 17,
     "metadata": {},
     "output_type": "execute_result"
    }
   ],
   "source": [
    "# \"Explostion\" des données : un mot par ligne : \n",
    "annotated_datas = annotated_datas.explode(\"words\", ignore_index=True)\n",
    "annotated_datas.head(10)"
   ]
  },
  {
   "cell_type": "markdown",
   "id": "fd57e691",
   "metadata": {},
   "source": [
    "### Lemmatisation et étiquetage morphosyntaxique :"
   ]
  },
  {
   "cell_type": "code",
   "execution_count": 21,
   "id": "345ab52f",
   "metadata": {},
   "outputs": [],
   "source": [
    "## Thx to Ed Rushton :\n",
    "# Cf. https://stackoverflow.com/questions/44395656/applying-spacy-parser-to-pandas-dataframe-w-multiprocessing\n",
    "\n",
    "## Spacy is highly optimised and does the multiprocessing for you. \n",
    "## As a result, I think your best bet is to take the data out of \n",
    "## the Dataframe and pass it to the Spacy pipeline as a list rather \n",
    "## than trying to use .apply directly.\n",
    "## You then need to the collate the results of the parse, and put \n",
    "## this back into the Dataframe. \n",
    "\n",
    "lemma = []\n",
    "pos = []\n",
    "morph = []\n",
    "dep = []\n",
    "\n",
    "for doc in nlp.pipe(annotated_datas['words'].astype('unicode').values, batch_size=50):\n",
    "    if doc.has_annotation:\n",
    "        #tokens.append([n.text for n in doc])\n",
    "        lemma.append([n.lemma_ for n in doc])\n",
    "        pos.append([n.pos_ for n in doc])\n",
    "        morph.append([n.morph for n in doc])\n",
    "        dep.append([n.dep_ for n in doc])\n",
    "    else:\n",
    "        # We want to make sure that the lists of parsed results have the\n",
    "        # same number of entries of the original Dataframe, so add some blanks in case the parse fails\n",
    "        # tokens.append(None)\n",
    "        lemma.append(None)\n",
    "        pos.append(None)\n",
    "        morph.append(None)\n",
    "        \n",
    "# corpus_test['tokens'] = tokens\n",
    "annotated_datas['lemma'] = lemma\n",
    "annotated_datas['pos'] = pos\n",
    "annotated_datas['morph'] = morph"
   ]
  },
  {
   "cell_type": "code",
   "execution_count": 22,
   "id": "022fb7e6",
   "metadata": {},
   "outputs": [],
   "source": [
    "# Explosion des données : \n",
    "annotated_datas = annotated_datas.explode(\"words\", ignore_index=True)"
   ]
  },
  {
   "cell_type": "code",
   "execution_count": 23,
   "id": "510e0d57",
   "metadata": {},
   "outputs": [
    {
     "data": {
      "text/html": [
       "<div>\n",
       "<style scoped>\n",
       "    .dataframe tbody tr th:only-of-type {\n",
       "        vertical-align: middle;\n",
       "    }\n",
       "\n",
       "    .dataframe tbody tr th {\n",
       "        vertical-align: top;\n",
       "    }\n",
       "\n",
       "    .dataframe thead th {\n",
       "        text-align: right;\n",
       "    }\n",
       "</style>\n",
       "<table border=\"1\" class=\"dataframe\">\n",
       "  <thead>\n",
       "    <tr style=\"text-align: right;\">\n",
       "      <th></th>\n",
       "      <th>filename</th>\n",
       "      <th>words</th>\n",
       "      <th>lemma</th>\n",
       "      <th>pos</th>\n",
       "      <th>morph</th>\n",
       "      <th>dep</th>\n",
       "    </tr>\n",
       "  </thead>\n",
       "  <tbody>\n",
       "    <tr>\n",
       "      <th>0</th>\n",
       "      <td>Huysmans.txt</td>\n",
       "      <td>À</td>\n",
       "      <td>[à]</td>\n",
       "      <td>[ADP]</td>\n",
       "      <td>[()]</td>\n",
       "      <td>[ROOT]</td>\n",
       "    </tr>\n",
       "    <tr>\n",
       "      <th>1</th>\n",
       "      <td>Huysmans.txt</td>\n",
       "      <td>en</td>\n",
       "      <td>[en]</td>\n",
       "      <td>[ADP]</td>\n",
       "      <td>[()]</td>\n",
       "      <td>[ROOT]</td>\n",
       "    </tr>\n",
       "    <tr>\n",
       "      <th>2</th>\n",
       "      <td>Huysmans.txt</td>\n",
       "      <td>juger</td>\n",
       "      <td>[juger]</td>\n",
       "      <td>[VERB]</td>\n",
       "      <td>[(VerbForm=Inf)]</td>\n",
       "      <td>[ROOT]</td>\n",
       "    </tr>\n",
       "    <tr>\n",
       "      <th>3</th>\n",
       "      <td>Huysmans.txt</td>\n",
       "      <td>par</td>\n",
       "      <td>[par]</td>\n",
       "      <td>[ADP]</td>\n",
       "      <td>[()]</td>\n",
       "      <td>[ROOT]</td>\n",
       "    </tr>\n",
       "    <tr>\n",
       "      <th>4</th>\n",
       "      <td>Huysmans.txt</td>\n",
       "      <td>les</td>\n",
       "      <td>[le]</td>\n",
       "      <td>[DET]</td>\n",
       "      <td>[(Definite=Def, Number=Plur, PronType=Art)]</td>\n",
       "      <td>[ROOT]</td>\n",
       "    </tr>\n",
       "    <tr>\n",
       "      <th>...</th>\n",
       "      <td>...</td>\n",
       "      <td>...</td>\n",
       "      <td>...</td>\n",
       "      <td>...</td>\n",
       "      <td>...</td>\n",
       "      <td>...</td>\n",
       "    </tr>\n",
       "    <tr>\n",
       "      <th>287</th>\n",
       "      <td>Balzac.txt</td>\n",
       "      <td>une</td>\n",
       "      <td>[un]</td>\n",
       "      <td>[DET]</td>\n",
       "      <td>[(Definite=Ind, Gender=Fem, Number=Sing, PronT...</td>\n",
       "      <td>[ROOT]</td>\n",
       "    </tr>\n",
       "    <tr>\n",
       "      <th>288</th>\n",
       "      <td>Balzac.txt</td>\n",
       "      <td>bien</td>\n",
       "      <td>[bien]</td>\n",
       "      <td>[ADV]</td>\n",
       "      <td>[()]</td>\n",
       "      <td>[ROOT]</td>\n",
       "    </tr>\n",
       "    <tr>\n",
       "      <th>289</th>\n",
       "      <td>Balzac.txt</td>\n",
       "      <td>maigre</td>\n",
       "      <td>[maigre]</td>\n",
       "      <td>[ADJ]</td>\n",
       "      <td>[(Gender=Masc, Number=Sing)]</td>\n",
       "      <td>[ROOT]</td>\n",
       "    </tr>\n",
       "    <tr>\n",
       "      <th>290</th>\n",
       "      <td>Balzac.txt</td>\n",
       "      <td>pension</td>\n",
       "      <td>[pension]</td>\n",
       "      <td>[NOUN]</td>\n",
       "      <td>[(Gender=Fem, Number=Sing)]</td>\n",
       "      <td>[ROOT]</td>\n",
       "    </tr>\n",
       "    <tr>\n",
       "      <th>291</th>\n",
       "      <td>Balzac.txt</td>\n",
       "      <td>.</td>\n",
       "      <td>[.]</td>\n",
       "      <td>[PUNCT]</td>\n",
       "      <td>[()]</td>\n",
       "      <td>[ROOT]</td>\n",
       "    </tr>\n",
       "  </tbody>\n",
       "</table>\n",
       "<p>292 rows × 6 columns</p>\n",
       "</div>"
      ],
      "text/plain": [
       "         filename    words      lemma      pos  \\\n",
       "0    Huysmans.txt        À        [à]    [ADP]   \n",
       "1    Huysmans.txt       en       [en]    [ADP]   \n",
       "2    Huysmans.txt    juger    [juger]   [VERB]   \n",
       "3    Huysmans.txt      par      [par]    [ADP]   \n",
       "4    Huysmans.txt      les       [le]    [DET]   \n",
       "..            ...      ...        ...      ...   \n",
       "287    Balzac.txt      une       [un]    [DET]   \n",
       "288    Balzac.txt     bien     [bien]    [ADV]   \n",
       "289    Balzac.txt   maigre   [maigre]    [ADJ]   \n",
       "290    Balzac.txt  pension  [pension]   [NOUN]   \n",
       "291    Balzac.txt        .        [.]  [PUNCT]   \n",
       "\n",
       "                                                 morph     dep  \n",
       "0                                                 [()]  [ROOT]  \n",
       "1                                                 [()]  [ROOT]  \n",
       "2                                     [(VerbForm=Inf)]  [ROOT]  \n",
       "3                                                 [()]  [ROOT]  \n",
       "4          [(Definite=Def, Number=Plur, PronType=Art)]  [ROOT]  \n",
       "..                                                 ...     ...  \n",
       "287  [(Definite=Ind, Gender=Fem, Number=Sing, PronT...  [ROOT]  \n",
       "288                                               [()]  [ROOT]  \n",
       "289                       [(Gender=Masc, Number=Sing)]  [ROOT]  \n",
       "290                        [(Gender=Fem, Number=Sing)]  [ROOT]  \n",
       "291                                               [()]  [ROOT]  \n",
       "\n",
       "[292 rows x 6 columns]"
      ]
     },
     "execution_count": 23,
     "metadata": {},
     "output_type": "execute_result"
    }
   ],
   "source": [
    "annotated_datas"
   ]
  },
  {
   "cell_type": "code",
   "execution_count": 27,
   "id": "ab55d60e",
   "metadata": {},
   "outputs": [],
   "source": [
    "with open('/Users/adesacy/Desktop/PyMotifs/output/corpus_annotated.csv', 'w', encoding='utf-8') as file:\n",
    "    writer = csv.writer(file)\n",
    "    writer.writerow(annotated_datas)"
   ]
  },
  {
   "cell_type": "code",
   "execution_count": null,
   "id": "3c3340aa",
   "metadata": {},
   "outputs": [],
   "source": []
  },
  {
   "cell_type": "code",
   "execution_count": null,
   "id": "9c612f93",
   "metadata": {},
   "outputs": [],
   "source": []
  },
  {
   "cell_type": "code",
   "execution_count": null,
   "id": "e908556d",
   "metadata": {},
   "outputs": [],
   "source": []
  },
  {
   "cell_type": "code",
   "execution_count": null,
   "id": "f1db6c7d",
   "metadata": {},
   "outputs": [],
   "source": []
  }
 ],
 "metadata": {
  "kernelspec": {
   "display_name": "Python 3 (ipykernel)",
   "language": "python",
   "name": "python3"
  },
  "language_info": {
   "codemirror_mode": {
    "name": "ipython",
    "version": 3
   },
   "file_extension": ".py",
   "mimetype": "text/x-python",
   "name": "python",
   "nbconvert_exporter": "python",
   "pygments_lexer": "ipython3",
   "version": "3.10.8"
  }
 },
 "nbformat": 4,
 "nbformat_minor": 5
}
